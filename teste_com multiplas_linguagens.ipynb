{
 "cells": [
  {
   "cell_type": "markdown",
   "metadata": {},
   "source": [
    "Para instalar múltiplas linguagens no Jupyter Notebook, você pode usar o Anaconda, que é uma plataforma de ciência de dados que facilita a instalação de pacotes e a criação de ambientes de trabalho. Aqui estão os passos para instalar várias linguagens, incluindo Python, R e Julia, no Jupyter Notebook:\n",
    "\n",
    "- Instale o Anaconda: Primeiro, você precisa instalar o Anaconda em seu sistema. O Anaconda é uma distribuição de Python e R para computação científica e pode ser baixado do site oficial do Anaconda.\n",
    "- Instale a linguagem desejada: Depois de instalar o Anaconda, você pode instalar a linguagem desejada. Por exemplo, para instalar o R, você pode usar o comando conda install -c r r-essentials no terminal. Este comando instala o pacote \"R Essentials\", que inclui os principais pacotes de R, como dplyr, ggplot2 e tidyr.\n",
    "- Use a linguagem no Jupyter Notebook: Depois de instalar a linguagem, você pode usá-la no Jupyter Notebook. Se você instalou o R em seu ambiente atual, basta abrir o Jupyter Notebook e verá a linguagem R disponível. Se você instalou o R em um novo ambiente, você precisará ativar esse ambiente antes de abrir o Jupyter Notebook. Isso pode ser feito com os comandos conda activate r_env e jupyter notebook.\n",
    "\n",
    "Além disso, para usar várias linguagens em um único notebook Jupyter, você pode usar pacotes como IPYStata para Stata e rpy2 para R. O IPYStata pode ser instalado com o comando pip install ipystata e usado com o comando mágico %%stata. O rpy2 pode ser instalado com o comando pip install rpy2 e importado com import rpy2.robjects as robjects.\n",
    "\n"
   ]
  },
  {
   "cell_type": "markdown",
   "metadata": {},
   "source": []
  },
  {
   "cell_type": "code",
   "execution_count": null,
   "metadata": {
    "vscode": {
     "languageId": "ruby"
    }
   },
   "outputs": [],
   "source": [
    "A = 2+2 \n",
    "puts \"ola\"\n",
    "puts A\n"
   ]
  },
  {
   "cell_type": "code",
   "execution_count": null,
   "metadata": {
    "vscode": {
     "languageId": "ruby"
    }
   },
   "outputs": [
    {
     "name": "stdout",
     "output_type": "stream",
     "text": [
      "ola"
     ]
    }
   ],
   "source": [
    "A = 2+2\n",
    "print (\"ola\")\n",
    "print (A)\n",
    "\n"
   ]
  },
  {
   "cell_type": "code",
   "execution_count": null,
   "metadata": {
    "vscode": {
     "languageId": "perl"
    }
   },
   "outputs": [],
   "source": []
  }
 ],
 "metadata": {
  "kernelspec": {
   "display_name": "Python 3",
   "language": "python",
   "name": "python3"
  },
  "language_info": {
   "file_extension": ".rb",
   "mimetype": "application/x-ruby",
   "name": "python",
   "version": "3.11.6"
  }
 },
 "nbformat": 4,
 "nbformat_minor": 2
}
